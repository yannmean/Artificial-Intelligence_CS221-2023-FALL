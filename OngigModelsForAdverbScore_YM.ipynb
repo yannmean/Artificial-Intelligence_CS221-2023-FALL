{
  "nbformat": 4,
  "nbformat_minor": 0,
  "metadata": {
    "colab": {
      "provenance": [],
      "include_colab_link": true
    },
    "kernelspec": {
      "name": "python3",
      "display_name": "Python 3"
    },
    "language_info": {
      "name": "python"
    }
  },
  "cells": [
    {
      "cell_type": "markdown",
      "metadata": {
        "id": "view-in-github",
        "colab_type": "text"
      },
      "source": [
        "<a href=\"https://colab.research.google.com/github/yannmean/Artificial-Intelligence_CS221-2023-FALL/blob/main/OngigModelsForAdverbScore_YM.ipynb\" target=\"_parent\"><img src=\"https://colab.research.google.com/assets/colab-badge.svg\" alt=\"Open In Colab\"/></a>"
      ]
    },
    {
      "cell_type": "markdown",
      "source": [
        "# 0. House keeping\n",
        "\n",
        "This section is mainly for setting up the environment, installing and loading packages, setting up the working directly on Google Drive.\n",
        "\n",
        "Please note that colab is make for python by default, but I created a R environment within (some people call it \"the r magic\"). So the codes are still written in R. "
      ],
      "metadata": {
        "id": "SuorzWydQHKM"
      }
    },
    {
      "cell_type": "code",
      "source": [
        "# Mount to my googled drive directory which contains the original dataset, and the ridge coefficients\n",
        "from google.colab import drive\n",
        "drive.mount('/content/drive')\n",
        "# Here I created this directory in my google drive to host all the objects needed for this computation\n",
        "%cd /content/drive/MyDrive/Ongig/ \n",
        "!ls"
      ],
      "metadata": {
        "colab": {
          "base_uri": "https://localhost:8080/"
        },
        "id": "LhgvfqwaNxQ-",
        "outputId": "d2765b5d-317e-4ff0-ce72-784f3ffbbea1"
      },
      "execution_count": null,
      "outputs": [
        {
          "output_type": "stream",
          "name": "stdout",
          "text": [
            "Drive already mounted at /content/drive; to attempt to forcibly remount, call drive.mount(\"/content/drive\", force_remount=True).\n",
            "/content/drive/MyDrive/Ongig\n",
            "adverbsCounts.csv\t   adverb-weight-dataset_newAdvScores.csv\n",
            "adverbs.csv\t\t   jobPostWordVector.pdf\n",
            "adverb-weight-dataset.csv  ridgeAdvCoefs.csv\n"
          ]
        }
      ]
    },
    {
      "cell_type": "code",
      "source": [
        "%%capture\n",
        "# activate R in python console\n",
        "!pip install rpy2==3.5.1"
      ],
      "metadata": {
        "id": "wSbJ9VcNI0Q5"
      },
      "execution_count": null,
      "outputs": []
    },
    {
      "cell_type": "code",
      "source": [
        "# Load R environment\n",
        "%load_ext rpy2.ipython"
      ],
      "metadata": {
        "id": "IKz3X-GCNm0L"
      },
      "execution_count": null,
      "outputs": []
    },
    {
      "cell_type": "code",
      "source": [
        "%%R\n",
        "# install and load necessary packages and load from library\n",
        "\n",
        "install.packages(\"dplyr\")\n",
        "install.packages(\"reshape\")\n",
        "install.packages(\"ggplot2\")\n",
        "install.packages(\"tidyr\")\n",
        "\n",
        "pkgs <- c(\"dplyr\", \"reshape\", \"ggplot2\", \"tidyr\")\n",
        "sapply(pkgs, require, character.only = T)"
      ],
      "metadata": {
        "id": "vTZLXLg2PMi_"
      },
      "execution_count": null,
      "outputs": []
    },
    {
      "cell_type": "markdown",
      "source": [
        "# 1. Compute the Adverb Score\n",
        "\n",
        "## 1.1 Introduction \n",
        "To obtain the adverb score for one job posting, we need the following three components: \n",
        "\n",
        "1) the weight of each adverb that exist in this job posting;\\\n",
        "2) the number of times each adverb has appeared in the same job posting;\\\n",
        "3) the total number of adverbs in the same job posting\n",
        "\n",
        "The first component - weight of each adverb - has been obtained via a statistical learning method, ridge regression, and stored as a dataframe of two variables: \n",
        "\n",
        "*   advScore - the weight (stored as float)\n",
        "*   adv - the adverbs (stored as string)\n",
        "\n",
        "The second component - adverb frequency in each job posting - has been obtained by counting the number of each adverb that appeared in a given job posting.\n",
        "\n",
        "Finally, the third component - total number of adverbs - is calculated by counting the total number of adverbs (if one adverb appeared twice, we count it as 2, instead of 1.)\n",
        "\n",
        "## 1.2 Adverb Score Construction\n",
        "\n",
        "First, let's clarify the notations \n",
        "\n",
        "\n",
        "*   Let $s_i$ be the adverb score for job posting $i$\n",
        "*   Let $w_j$ be the ridge coefficient of adverb $j$ (a.k.a. the \"weight\")\n",
        "*   Let $n_{ij}$ be the frequency count of adverb $j$ in job posting $i$\n",
        "*   Let $N_i$ be the total number of adverbs in job posting $i$\n",
        "\n",
        "Therefore, the adverb score of job posting j can be calculated as the following:\n",
        "\n",
        "\\begin{align}\n",
        " s_i = \\sum_{j} w_j \\frac{n_{ij}}{N_i} \n",
        "\\end{align}\n",
        "\n",
        "In other words, the adverb score is the sum of the weighted adverb frequencies of the adverbs that are from the job posting."
      ],
      "metadata": {
        "id": "NQRd_CBI_0do"
      }
    },
    {
      "cell_type": "markdown",
      "source": [
        "## 1.3 Data Preparation for Computation\n",
        "In the actual computation, we will not compute the adverb score for each job posting one-by-one, as this is not efficient and will take too long when we have millions of adverb scores that we would like to compute. Rather we formulate the computation into a Hadamard product of two matrices (element-wise multiplication), hence the computation is much faster. \n",
        "\n",
        "### 1.3.1 First, we need to prepare our dataset by creating the adverb frequency table by parsing, counting adverbs for each posting. \n",
        "\n",
        "There are three objects which need to be pre-loaded:\n",
        "*   The original dataset (adverb-weight-dataset.csv)\n",
        "*   The master adverb list from Ongig (adverbs.csv)\n",
        "*   The adverb weights (ridgeAdvCoefs.csv)"
      ],
      "metadata": {
        "id": "b1KJd0-pHRh1"
      }
    },
    {
      "cell_type": "code",
      "source": [
        "%%R\n",
        "# load the original dataset\n",
        "df <- read.csv(\"adverb-weight-dataset.csv\")\n",
        "\n",
        "# load the master list of adverbs\n",
        "advList <- read.csv(\"adverbs.csv\", header = F)\n",
        "\n",
        "# load the adverb weights\n",
        "ridge_weights <- read.csv(\"ridgeAdvCoefs.csv\")"
      ],
      "metadata": {
        "id": "RLSJFOBHCCOz"
      },
      "execution_count": null,
      "outputs": []
    },
    {
      "cell_type": "code",
      "source": [
        "%%R\n",
        "# subset the dataset to only include \"job_id\" and \"adverbs\"\n",
        "df_adv <- df[, c(\"job_id\", \"adverbs\")] \n",
        "df_adv$adverbs <- gsub(\" \", \"\", df_adv$adverbs)\n",
        "# note the largest number of adverbs that one posting has is 64.\n",
        "df_adv <- df_adv %>% separate(adverbs, paste0(\"adv\", c(1:64)), sep = \",\", remove = T)\n",
        "\n",
        "# obtain adverbs from the current job posting\n",
        "adverbsFromPosting <- unique(as.vector(as.matrix(df_adv[,2:ncol(df_adv)])))\n",
        "adverbsFromPosting <- adverbsFromPosting[adverbsFromPosting!= \"\" & !is.na(adverbsFromPosting)] \n",
        "\n",
        "# create a data frame to hold adverb frequencies for each job posting\n",
        "df_advCounts <- data.frame(matrix(0, ncol = nrow(advList) + 1, nrow = nrow(df)))\n",
        "colnames(df_advCounts) <- c(\"job_id\", advList$V1)\n",
        "\n",
        "# this step might take 1 minute or 2 \n",
        "for (i in 1:nrow(df_adv)) {\n",
        "  df_advCounts[i, \"job_id\"] = df_adv$job_id[i]\n",
        "  df_adv_temp <- df_adv[i,]\n",
        "  df_adv_temp <- df_adv_temp[!is.na(df_adv_temp)]\n",
        "  \n",
        "  # inner loop start from the second index as the first index is the job_id\n",
        "  for (j in 2:length(df_adv_temp)) {\n",
        "    col_index <- which(colnames(df_advCounts) == df_adv_temp[j])\n",
        "    df_advCounts[i, col_index] <-  df_advCounts[i, col_index] + 1  \n",
        "  }\n",
        "}"
      ],
      "metadata": {
        "id": "-qyM4TeMOipv"
      },
      "execution_count": null,
      "outputs": []
    },
    {
      "cell_type": "code",
      "source": [
        "%%R\n",
        "# df_advCounts dataframe contains all the adverbs, however there are many adverbs \n",
        "# from the master adverb lists do not exist in current job postings, here we only\n",
        "# keep the adverbs that have appeared in the current job postings. \n",
        "df_advCounts <- df_advCounts[, colnames(df_advCounts) %in% adverbsFromPosting]\n",
        "df_advCounts$job_id <- df_adv$job_id\n",
        "\n",
        "# compute the total number of adverbs in each job posting, and store that value in variable \"advTotal\"\n",
        "df_advCounts$advTotal <- rowSums(df_advCounts[, !names(df_advCounts) %in% c(\"job_id\", \"advTotal\")])\n",
        "\n",
        "# sanity check the dimension of this dataframe, the number of colum should be 534 adverbs + job_id + adv_total\n",
        "dim(df_advCounts)"
      ],
      "metadata": {
        "colab": {
          "base_uri": "https://localhost:8080/"
        },
        "id": "NI6v1_bfTd4N",
        "outputId": "421dae4a-d6aa-4481-f89e-255739b073c8"
      },
      "execution_count": null,
      "outputs": [
        {
          "output_type": "stream",
          "name": "stdout",
          "text": [
            "[1] 42642   536\n"
          ]
        }
      ]
    },
    {
      "cell_type": "markdown",
      "source": [
        "### 1.3.2 We store a version of the adverb frequency table for future use. (In case this session is timed-out, we also don't have to reconstruct it.)"
      ],
      "metadata": {
        "id": "ct_Sec5tTyTc"
      }
    },
    {
      "cell_type": "code",
      "source": [
        "%%R\n",
        "# Now that this dataset should be saved in the google drive folder\n",
        "write.csv(df_advCounts, file = \"/content/drive/MyDrive/Ongig/adverbsCounts.csv\") "
      ],
      "metadata": {
        "id": "rZzwG_M1Tx_7"
      },
      "execution_count": null,
      "outputs": []
    },
    {
      "cell_type": "markdown",
      "source": [
        "### 1.3.3 Now we need to make sure the ridge_weights matrix (the weight matrix) and the df_advCounts matrix (the frequency matrix) have the same dimension, and all adverbs are following the same orders along the column. \n"
      ],
      "metadata": {
        "id": "5npHIxdpaW8r"
      }
    },
    {
      "cell_type": "code",
      "source": [
        "%%R\n",
        "# obtain the number of job postings we have\n",
        "n = nrow(df_advCounts)\n",
        "\n",
        "# we broadcast the ridge_weights following the dimension of the adverb frequency matrix, df_advCounts\n",
        "ridge_weights_expand <- cbind(ridge_weights, rep(ridge_weights[2], each = n)) %>% t() %>% as.data.frame()\n",
        "ridge_weights_expand <- ridge_weights_expand[3:nrow(ridge_weights_expand), 3:ncol(ridge_weights_expand)] \n",
        "colnames(ridge_weights_expand) <- ridge_weights_expand[1,]\n",
        "ridge_weights_expand <- ridge_weights_expand[-1,]\n",
        "ridge_weights_expand <- ridge_weights_expand[,!colnames(ridge_weights_expand) %in% c(\"job_id\", \"advTotal\")]\n",
        "# sanity check the dimension of ridge_weights_expand\n",
        "dim(ridge_weights_expand)\n",
        "\n",
        "# re-order the columns to make sure adverbs in the weight matrix follow the same order\n",
        "ridge_weights_expand <- ridge_weights_expand[, order(colnames(ridge_weights_expand))] \n",
        "\n",
        "ridge_weights_expand <- as.matrix(sapply(ridge_weights_expand, as.numeric))"
      ],
      "metadata": {
        "id": "rW3ri92WZ-tX"
      },
      "execution_count": null,
      "outputs": []
    },
    {
      "cell_type": "markdown",
      "source": [
        "### 1.3.4 Now make sure the frequency matrix is having the same dimension and the same adverb ordering as the weight matrix.\n",
        "\n"
      ],
      "metadata": {
        "id": "5THR-BsQciLM"
      }
    },
    {
      "cell_type": "code",
      "source": [
        "%%R\n",
        "# First double check that all adverbs from df_advCounts are included in the weight matrix\n",
        "df_advCounts <- df_advCounts[,colnames(df_advCounts) %in% colnames(ridge_weights_expand) & ! colnames(df_advCounts) %in% c(\"job_id\", \"advTotal\")]\n",
        "\n",
        "# make sure the adverbs follow the same order\n",
        "df_advCounts <- df_advCounts[, order(colnames(df_advCounts))]\n",
        "\n",
        "df_advCounts <- as.matrix(sapply(df_advCounts, as.numeric))\n",
        "# sanity check of the dimension \n",
        "dim(df_advCounts)"
      ],
      "metadata": {
        "colab": {
          "base_uri": "https://localhost:8080/"
        },
        "id": "Ewwl3-p_a4hC",
        "outputId": "bc724c67-f626-425e-b4e4-dfcb25645e96"
      },
      "execution_count": null,
      "outputs": [
        {
          "output_type": "stream",
          "name": "stdout",
          "text": [
            "[1] 42642   534\n"
          ]
        }
      ]
    },
    {
      "cell_type": "markdown",
      "source": [
        "## 1.4 Adverb Score Computation\n",
        "\n",
        "\n",
        "\n",
        "\n",
        "\n"
      ],
      "metadata": {
        "id": "1BJY088biE-F"
      }
    },
    {
      "cell_type": "code",
      "source": [
        "%%R\n",
        "# Step 1. compute the Hadamard product of the weight matrix and the frequency matrix (element-wise products) \n",
        "# call this the adverb raw score\n",
        "advRawScores <- ridge_weights_expand * df_advCounts \n",
        "\n",
        "# sanity check for dimention\n",
        "dim(advRawScores)"
      ],
      "metadata": {
        "colab": {
          "base_uri": "https://localhost:8080/"
        },
        "id": "HRq36VJSiEol",
        "outputId": "d75576b8-c04d-4774-ee28-cdeac3afb7a7"
      },
      "execution_count": null,
      "outputs": [
        {
          "output_type": "stream",
          "name": "stdout",
          "text": [
            "[1] 42642   534\n"
          ]
        }
      ]
    },
    {
      "cell_type": "code",
      "source": [
        "%%R\n",
        "# Step 2. compute the sum of the raw scores\n",
        "advRawScoresSum <- rowSums(advRawScores)\n",
        "\n",
        "# Step 3. reweight the raw score by the total number of advs \n",
        "advScoresNew <- advRawScoresSum/rowSums(df_advCounts)\n",
        "\n",
        "# Step 4. set the advScoresNew as 0 for those postings without any adverbs\n",
        "advScoresNew[is.na(advScoresNew)] = 0\n",
        "\n",
        "# Step 5. merge the new score back into the original dataset for future use\n",
        "df$advScoresNew <- advScoresNew"
      ],
      "metadata": {
        "id": "WYZ1uLxXjLj-"
      },
      "execution_count": null,
      "outputs": []
    },
    {
      "cell_type": "code",
      "source": [
        "%%R\n",
        "# save a version of the updated dataset\n",
        "write.csv(df, file = \"/content/drive/MyDrive/Ongig/adverb-weight-dataset_newAdvScores.csv\")"
      ],
      "metadata": {
        "id": "aXRlP-hP5dFj"
      },
      "execution_count": null,
      "outputs": []
    },
    {
      "cell_type": "code",
      "source": [
        "%%R\n",
        "# Vistualizee the distribution of the new adverb score\n",
        "ggplot(df, aes(x = advScoresNew)) + geom_histogram(bins = 100) + theme_classic() + ggtitle(\"Distribution of New Adverb Score From Ridge Regression\")"
      ],
      "metadata": {
        "colab": {
          "base_uri": "https://localhost:8080/",
          "height": 497
        },
        "id": "fnmZT7V4jXj3",
        "outputId": "87c47eba-cd22-410b-fac4-407d022e8016"
      },
      "execution_count": null,
      "outputs": [
        {
          "output_type": "display_data",
          "data": {
            "image/png": "[encoded data removed]"
          },
          "metadata": {}
        }
      ]
    },
    {
      "cell_type": "code",
      "source": [
        "%%R\n",
        "# Vistualizee the distribution again, but removing all the zeros\n",
        "ggplot(df[df$advScoresNew!=0,], aes(x = advScoresNew)) + geom_histogram(bins = 100) + theme_classic() + ggtitle(\"Distribution of New Adverb Score (Non-zero) From Ridge Regression\")"
      ],
      "metadata": {
        "colab": {
          "base_uri": "https://localhost:8080/",
          "height": 497
        },
        "id": "av2mdqfK9_c7",
        "outputId": "9cbafd9a-9319-4534-a924-b13ff6f9ff7d"
      },
      "execution_count": null,
      "outputs": [
        {
          "output_type": "display_data",
          "data": {
            "image/png": "[encoded data removed]"
          },
          "metadata": {}
        }
      ]
    },
    {
      "cell_type": "markdown",
      "source": [
        "## 1.5 Rescale the new adver score to 0 to 100"
      ],
      "metadata": {
        "id": "Ggu-g7XBLqpo"
      }
    },
    {
      "cell_type": "code",
      "source": [
        "%%R\n",
        "# reload the previously safe the dataset if the session logs out. \n",
        "# df <- read.csv(\"/content/drive/MyDrive/Ongig/adverb-weight-dataset_newAdvScores.csv\")\n",
        "\n",
        "as <- df$advScoresNew"
      ],
      "metadata": {
        "id": "fUaZIbZCL2Rb"
      },
      "execution_count": null,
      "outputs": []
    },
    {
      "cell_type": "markdown",
      "source": [
        "### 1.5.1 arctan transformation \n"
      ],
      "metadata": {
        "id": "i1LFesNyM_Vc"
      }
    },
    {
      "cell_type": "code",
      "source": [
        "%%R\n",
        "# scale by 100 so that arctan (x) is more spread across the whole range pf -3.14/2, 3.14/2\n",
        "as_arctan <- atan(as*100) \n",
        "summary(as_arctan)"
      ],
      "metadata": {
        "colab": {
          "base_uri": "https://localhost:8080/"
        },
        "id": "6Jr53S1_NGC8",
        "outputId": "5ba47b1e-ded2-43f3-88fd-91040ecd9be8"
      },
      "execution_count": null,
      "outputs": [
        {
          "output_type": "stream",
          "name": "stdout",
          "text": [
            "    Min.  1st Qu.   Median     Mean  3rd Qu.     Max. \n",
            "-1.37052 -0.06273  0.00000  0.01452  0.04401  1.42822 \n"
          ]
        }
      ]
    },
    {
      "cell_type": "code",
      "source": [
        "%%R\n",
        "hist(as_arctan, breaks = 100)"
      ],
      "metadata": {
        "colab": {
          "base_uri": "https://localhost:8080/",
          "height": 497
        },
        "id": "zK7G8IPNN-r4",
        "outputId": "fcdbf1ee-3c1a-4148-aeb3-4a46f0d4eac3"
      },
      "execution_count": null,
      "outputs": [
        {
          "output_type": "display_data",
          "data": {
            "image/png": "[encoded data removed]"
          },
          "metadata": {}
        }
      ]
    },
    {
      "cell_type": "markdown",
      "source": [
        "### 1.5.2 compute z score"
      ],
      "metadata": {
        "id": "M_Kvqw5JNKaq"
      }
    },
    {
      "cell_type": "code",
      "source": [
        "%%R\n",
        "mean <- mean(as_arctan)\n",
        "sd <- sd(as_arctan)\n",
        "as_arc_z <- (as_arctan - mean) / sd\n",
        "summary(as_arc_z)"
      ],
      "metadata": {
        "colab": {
          "base_uri": "https://localhost:8080/"
        },
        "id": "Q5TI__rCNTXE",
        "outputId": "26036243-d745-4693-a06a-d8b7e3ca9e3f"
      },
      "execution_count": null,
      "outputs": [
        {
          "output_type": "stream",
          "name": "stdout",
          "text": [
            "    Min.  1st Qu.   Median     Mean  3rd Qu.     Max. \n",
            "-4.23689 -0.23631 -0.04443  0.00000  0.09020  4.32455 \n"
          ]
        }
      ]
    },
    {
      "cell_type": "code",
      "source": [
        "%%R\n",
        "hist(as_arc_z, breaks = 100)"
      ],
      "metadata": {
        "colab": {
          "base_uri": "https://localhost:8080/",
          "height": 497
        },
        "id": "1raGJ7KiN4Sv",
        "outputId": "eb08081f-8406-4832-d23c-5c7fbc5fe3b5"
      },
      "execution_count": null,
      "outputs": [
        {
          "output_type": "display_data",
          "data": {
            "image/png": "[encoded data removed]"
          },
          "metadata": {}
        }
      ]
    },
    {
      "cell_type": "markdown",
      "source": [
        "### 1.5.3 shift the distribution from range (-$\\pi$/2, $\\pi$/2), to (0, 100)"
      ],
      "metadata": {
        "id": "tgxuFO5LNaDA"
      }
    },
    {
      "cell_type": "code",
      "source": [
        "%%R\n",
        "# by symmmetry, the mean of a symmetric distribution on (0, 100) should be 50\n",
        "as_rescaled <- 50 + as_arc_z*(sd*30) # rescale sd by 30 to spread on the new domain\n",
        "summary(as_rescaled)"
      ],
      "metadata": {
        "colab": {
          "base_uri": "https://localhost:8080/"
        },
        "id": "_kdUNw9FNpqJ",
        "outputId": "e49184b0-c059-4700-dfa7-75d4feaf0c18"
      },
      "execution_count": null,
      "outputs": [
        {
          "output_type": "stream",
          "name": "stdout",
          "text": [
            "   Min. 1st Qu.  Median    Mean 3rd Qu.    Max. \n",
            "  8.449  47.683  49.564  50.000  50.885  92.411 \n"
          ]
        }
      ]
    },
    {
      "cell_type": "code",
      "source": [
        "%%R\n",
        "hist(as_rescaled, breaks = 100)"
      ],
      "metadata": {
        "colab": {
          "base_uri": "https://localhost:8080/",
          "height": 497
        },
        "id": "swZhMA7zOGI1",
        "outputId": "fee9c21f-1434-4a3d-920f-0b2b7d80bc56"
      },
      "execution_count": null,
      "outputs": [
        {
          "output_type": "display_data",
          "data": {
            "image/png": "[encoded data removed]"
          },
          "metadata": {}
        }
      ]
    },
    {
      "cell_type": "markdown",
      "source": [
        "### 1.5.4 for those smaller than zero are set at zero, larger than 100 are set at 100 (didn't happen in our current case), it might happen in future with very small probability (4 standard deviation from the mean)"
      ],
      "metadata": {
        "id": "FPWQUqOvOMij"
      }
    },
    {
      "cell_type": "code",
      "source": [
        "%%R\n",
        "as_rescaled[as_rescaled < 0] = 0\n",
        "as_rescaled[as_rescaled > 100] = 100"
      ],
      "metadata": {
        "id": "OUIPTU_GOWIn"
      },
      "execution_count": null,
      "outputs": []
    },
    {
      "cell_type": "markdown",
      "source": [
        "### 1.5.5 testing and evaluation the new rescaled adv score:"
      ],
      "metadata": {
        "id": "O_HKPzo2OYPI"
      }
    },
    {
      "cell_type": "markdown",
      "source": [
        "#### create variables needed for the evaluations"
      ],
      "metadata": {
        "id": "5YpbrPRrOn_m"
      }
    },
    {
      "cell_type": "code",
      "source": [
        "%%R\n",
        "df$as_rescaled <- as_rescaled\n",
        "df$unique_apply_rate <- df$unique_applystarts / df$unique_views\n",
        "df$word_count_sqr <- df$word_count * df$word_count"
      ],
      "metadata": {
        "id": "L7xCfoWDOfL-"
      },
      "execution_count": null,
      "outputs": []
    },
    {
      "cell_type": "markdown",
      "source": [
        "#### examine correlation betweent rescaled and the unscaled new adverb score."
      ],
      "metadata": {
        "id": "y11wFJArOr3m"
      }
    },
    {
      "cell_type": "code",
      "source": [
        "%%R\n",
        "cor(df$advScoresNew, df$as_rescaled)"
      ],
      "metadata": {
        "colab": {
          "base_uri": "https://localhost:8080/"
        },
        "id": "WjsR6BP1Orgg",
        "outputId": "050b94c9-1a84-4e49-95af-322dcff5c791"
      },
      "execution_count": null,
      "outputs": [
        {
          "output_type": "stream",
          "name": "stdout",
          "text": [
            "[1] 0.969589\n"
          ]
        }
      ]
    },
    {
      "cell_type": "code",
      "source": [
        "%%R\n",
        "plot(df$advScoresNew, df$as_rescaled) # monotonic transformation, sigma curve"
      ],
      "metadata": {
        "colab": {
          "base_uri": "https://localhost:8080/",
          "height": 497
        },
        "id": "Ij5jjlSBO1Qv",
        "outputId": "d6e06989-c719-47e9-96da-2e6cd3b2e6c5"
      },
      "execution_count": null,
      "outputs": [
        {
          "output_type": "display_data",
          "data": {
            "image/png": "[encoded data removed]"
          },
          "metadata": {}
        }
      ]
    },
    {
      "cell_type": "markdown",
      "source": [
        "#### predicting the outcome - unique application rate (uptake), compared with the new adverb score that hasn't been rescaled."
      ],
      "metadata": {
        "id": "oh-nJhfzPG6R"
      }
    },
    {
      "cell_type": "code",
      "source": [
        "%%R\n",
        "lm_new_adv_score <- lm(unique_apply_rate ~ advScoresNew + word_count + word_count_sqr + title + title*advScoresNew, data = df)\n",
        "lm_new_adv_score_rescale <- lm(unique_apply_rate ~ as_rescaled + word_count + word_count_sqr + title + title*as_rescaled, data = df)"
      ],
      "metadata": {
        "id": "kQq-tkXpPME_"
      },
      "execution_count": null,
      "outputs": []
    },
    {
      "cell_type": "code",
      "source": [
        "%%R\n",
        "# new adverb score (unscaled)\n",
        "summary(lm_new_adv_score)"
      ],
      "metadata": {
        "colab": {
          "base_uri": "https://localhost:8080/"
        },
        "id": "tlzsJfHZPYyK",
        "outputId": "284993a9-c914-4024-d407-3afa573ddfc1"
      },
      "execution_count": null,
      "outputs": [
        {
          "output_type": "stream",
          "name": "stdout",
          "text": [
            "\n",
            "Call:\n",
            "lm(formula = unique_apply_rate ~ advScoresNew + word_count + \n",
            "    word_count_sqr + title + title * advScoresNew, data = df)\n",
            "\n",
            "Residuals:\n",
            "     Min       1Q   Median       3Q      Max \n",
            "-0.40406 -0.08302 -0.00588  0.07520  0.78647 \n",
            "\n",
            "Coefficients:\n",
            "                                           Estimate Std. Error t value Pr(>|t|)\n",
            "(Intercept)                               2.220e-01  1.979e-03 112.178  < 2e-16\n",
            "advScoresNew                              3.784e+00  3.686e-01  10.265  < 2e-16\n",
            "word_count                               -2.611e-05  6.308e-06  -4.139 3.49e-05\n",
            "word_count_sqr                           -7.680e-09  5.208e-09  -1.475   0.1403\n",
            "titleRetail Sales Associate               2.223e-02  1.785e-03  12.455  < 2e-16\n",
            "titleSales Associate                      2.658e-02  1.944e-03  13.669  < 2e-16\n",
            "titleShift Leader                         3.726e-02  2.494e-03  14.940  < 2e-16\n",
            "titleShift Manager                        4.176e-02  2.560e-03  16.310  < 2e-16\n",
            "titleTruck Driver                        -8.717e-02  2.123e-03 -41.053  < 2e-16\n",
            "advScoresNew:titleRetail Sales Associate  2.413e+00  4.422e-01   5.457 4.87e-08\n",
            "advScoresNew:titleSales Associate         2.224e+00  5.129e-01   4.336 1.45e-05\n",
            "advScoresNew:titleShift Leader           -1.362e-01  6.337e-01  -0.215   0.8299\n",
            "advScoresNew:titleShift Manager           1.272e+00  6.320e-01   2.013   0.0441\n",
            "advScoresNew:titleTruck Driver           -2.965e+00  5.027e-01  -5.899 3.69e-09\n",
            "                                            \n",
            "(Intercept)                              ***\n",
            "advScoresNew                             ***\n",
            "word_count                               ***\n",
            "word_count_sqr                              \n",
            "titleRetail Sales Associate              ***\n",
            "titleSales Associate                     ***\n",
            "titleShift Leader                        ***\n",
            "titleShift Manager                       ***\n",
            "titleTruck Driver                        ***\n",
            "advScoresNew:titleRetail Sales Associate ***\n",
            "advScoresNew:titleSales Associate        ***\n",
            "advScoresNew:titleShift Leader              \n",
            "advScoresNew:titleShift Manager          *  \n",
            "advScoresNew:titleTruck Driver           ***\n",
            "---\n",
            "Signif. codes:  0 ‘***’ 0.001 ‘**’ 0.01 ‘*’ 0.05 ‘.’ 0.1 ‘ ’ 1\n",
            "\n",
            "Residual standard error: 0.1264 on 42628 degrees of freedom\n",
            "Multiple R-squared:  0.1311,\tAdjusted R-squared:  0.1309 \n",
            "F-statistic: 494.9 on 13 and 42628 DF,  p-value: < 2.2e-16\n",
            "\n"
          ]
        }
      ]
    },
    {
      "cell_type": "code",
      "source": [
        "%%R\n",
        "# new adverb score (rescaled)\n",
        "summary(lm_new_adv_score_rescale)"
      ],
      "metadata": {
        "colab": {
          "base_uri": "https://localhost:8080/"
        },
        "id": "IgmxbPHYQZ_k",
        "outputId": "764ec926-f3b8-4533-f90c-5c045e353983"
      },
      "execution_count": null,
      "outputs": [
        {
          "output_type": "stream",
          "name": "stdout",
          "text": [
            "\n",
            "Call:\n",
            "lm(formula = unique_apply_rate ~ as_rescaled + word_count + word_count_sqr + \n",
            "    title + title * as_rescaled, data = df)\n",
            "\n",
            "Residuals:\n",
            "     Min       1Q   Median       3Q      Max \n",
            "-0.34372 -0.08242 -0.00599  0.07536  0.79425 \n",
            "\n",
            "Coefficients:\n",
            "                                          Estimate Std. Error t value Pr(>|t|)\n",
            "(Intercept)                              1.378e-01  8.053e-03  17.107  < 2e-16\n",
            "as_rescaled                              1.711e-03  1.593e-04  10.745  < 2e-16\n",
            "word_count                              -2.818e-05  6.307e-06  -4.467 7.95e-06\n",
            "word_count_sqr                          -6.330e-09  5.207e-09  -1.216 0.224100\n",
            "titleRetail Sales Associate             -3.347e-02  9.837e-03  -3.403 0.000668\n",
            "titleSales Associate                    -2.265e-02  1.139e-02  -1.989 0.046702\n",
            "titleShift Leader                        4.071e-02  1.398e-02   2.911 0.003601\n",
            "titleShift Manager                       1.507e-02  1.480e-02   1.018 0.308848\n",
            "titleTruck Driver                       -1.829e-02  1.083e-02  -1.689 0.091160\n",
            "as_rescaled:titleRetail Sales Associate  1.114e-03  1.936e-04   5.755 8.70e-09\n",
            "as_rescaled:titleSales Associate         9.858e-04  2.239e-04   4.403 1.07e-05\n",
            "as_rescaled:titleShift Leader           -7.677e-05  2.714e-04  -0.283 0.777317\n",
            "as_rescaled:titleShift Manager           5.342e-04  2.848e-04   1.876 0.060708\n",
            "as_rescaled:titleTruck Driver           -1.395e-03  2.269e-04  -6.149 7.86e-10\n",
            "                                           \n",
            "(Intercept)                             ***\n",
            "as_rescaled                             ***\n",
            "word_count                              ***\n",
            "word_count_sqr                             \n",
            "titleRetail Sales Associate             ***\n",
            "titleSales Associate                    *  \n",
            "titleShift Leader                       ** \n",
            "titleShift Manager                         \n",
            "titleTruck Driver                       .  \n",
            "as_rescaled:titleRetail Sales Associate ***\n",
            "as_rescaled:titleSales Associate        ***\n",
            "as_rescaled:titleShift Leader              \n",
            "as_rescaled:titleShift Manager          .  \n",
            "as_rescaled:titleTruck Driver           ***\n",
            "---\n",
            "Signif. codes:  0 ‘***’ 0.001 ‘**’ 0.01 ‘*’ 0.05 ‘.’ 0.1 ‘ ’ 1\n",
            "\n",
            "Residual standard error: 0.1263 on 42628 degrees of freedom\n",
            "Multiple R-squared:  0.1318,\tAdjusted R-squared:  0.1315 \n",
            "F-statistic: 497.8 on 13 and 42628 DF,  p-value: < 2.2e-16\n",
            "\n"
          ]
        }
      ]
    },
    {
      "cell_type": "code",
      "source": [
        "%%R\n",
        "# anova on new adverb score (unscaled)\n",
        "anova(lm_new_adv_score)"
      ],
      "metadata": {
        "colab": {
          "base_uri": "https://localhost:8080/"
        },
        "id": "I6TJ0TNYQhMV",
        "outputId": "8e5ac2d7-6503-47cc-d64f-98d0623e93c3"
      },
      "execution_count": null,
      "outputs": [
        {
          "output_type": "stream",
          "name": "stdout",
          "text": [
            "Analysis of Variance Table\n",
            "\n",
            "Response: unique_apply_rate\n",
            "                      Df Sum Sq Mean Sq  F value    Pr(>F)    \n",
            "advScoresNew           1  37.13  37.134 2324.450 < 2.2e-16 ***\n",
            "word_count             1   0.71   0.712   44.553 2.507e-11 ***\n",
            "word_count_sqr         1   0.32   0.322   20.133 7.245e-06 ***\n",
            "title                  5  61.59  12.319  771.094 < 2.2e-16 ***\n",
            "advScoresNew:title     5   3.03   0.606   37.940 < 2.2e-16 ***\n",
            "Residuals          42628 681.01   0.016                       \n",
            "---\n",
            "Signif. codes:  0 ‘***’ 0.001 ‘**’ 0.01 ‘*’ 0.05 ‘.’ 0.1 ‘ ’ 1\n"
          ]
        }
      ]
    },
    {
      "cell_type": "code",
      "source": [
        "%%R\n",
        "# anova on new adverb score (rescaled)\n",
        "anova(lm_new_adv_score_rescale)"
      ],
      "metadata": {
        "colab": {
          "base_uri": "https://localhost:8080/"
        },
        "id": "DPJITpG5QnLA",
        "outputId": "1216a7fa-f842-40f4-dcae-0d7ab4d1323d"
      },
      "execution_count": null,
      "outputs": [
        {
          "output_type": "stream",
          "name": "stdout",
          "text": [
            "Analysis of Variance Table\n",
            "\n",
            "Response: unique_apply_rate\n",
            "                     Df Sum Sq Mean Sq  F value    Pr(>F)    \n",
            "as_rescaled           1  39.32  39.317 2462.911 < 2.2e-16 ***\n",
            "word_count            1   0.72   0.723   45.317 1.697e-11 ***\n",
            "word_count_sqr        1   0.29   0.288   18.060 2.145e-05 ***\n",
            "title                 5  59.93  11.986  750.837 < 2.2e-16 ***\n",
            "as_rescaled:title     5   3.04   0.608   38.076 < 2.2e-16 ***\n",
            "Residuals         42628 680.50   0.016                       \n",
            "---\n",
            "Signif. codes:  0 ‘***’ 0.001 ‘**’ 0.01 ‘*’ 0.05 ‘.’ 0.1 ‘ ’ 1\n"
          ]
        }
      ]
    },
    {
      "cell_type": "markdown",
      "source": [
        "## 1.6 Notes on Adverb Score\n",
        "\n",
        "\n",
        "*   Rescaled new adverb score slightly outperforms the new adverb score without scaling.\n",
        "*   This version computes adverb scores only based on the adverbs that the training algorithm has \"seen.\" Adverbs that the algorithm hasn't seen before are not included in the computation. (Note: we can build algorithms which can address \"unseen\" adverbs if you want.)\n",
        "*   Some job postings ( $\\sim$ 43.5 %) do not contain any adverb, therefore their adverb score is defined as 0.  \n",
        "\n"
      ],
      "metadata": {
        "id": "KFk-ChHhBsdn"
      }
    },
    {
      "cell_type": "markdown",
      "source": [
        "# 2. Gender Score\n",
        "\n",
        "(coming soon)"
      ],
      "metadata": {
        "id": "5wD3avqc66Nf"
      }
    }
  ]
}